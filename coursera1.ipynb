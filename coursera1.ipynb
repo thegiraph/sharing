{
 "cells": [
  {
   "cell_type": "markdown",
   "id": "3f6b06fd",
   "metadata": {},
   "source": [
    "Tools for Data Science Assignment"
   ]
  },
  {
   "cell_type": "markdown",
   "id": "a531db57",
   "metadata": {},
   "source": [
    "Introduction:\n",
    "This is my submission for the peer-graded assignment"
   ]
  },
  {
   "cell_type": "markdown",
   "id": "81751501",
   "metadata": {},
   "source": [
    "Data Science Languages:\n",
    "R\n",
    "Python\n",
    "SQL\n",
    "Scala\n"
   ]
  },
  {
   "cell_type": "markdown",
   "id": "658c66d0",
   "metadata": {},
   "source": [
    "Data Science Tools:\n",
    "mongoDB\n",
    "MySQL\n",
    "Apache Airflow\n",
    "Prediction IO"
   ]
  },
  {
   "cell_type": "markdown",
   "id": "ba67417d",
   "metadata": {},
   "source": [
    "Arithmetic expression examples:\n",
    "\n",
    "1 + 2 = 3\n",
    "4 x 2 = 8"
   ]
  },
  {
   "cell_type": "code",
   "execution_count": null,
   "id": "c6d3b3ac",
   "metadata": {},
   "outputs": [],
   "source": [
    "num1 = float(input('type a number'))\n",
    "num2 = float(input('type another number'))\n",
    "multiply = num1 * num2\n",
    "add = num1 + num2"
   ]
  },
  {
   "cell_type": "code",
   "execution_count": 3,
   "id": "e541fbd2",
   "metadata": {},
   "outputs": [],
   "source": [
    "def Minutes_to_Hours(minutes):\n",
    "    hours = float(minutes)/60\n",
    "    return hours"
   ]
  },
  {
   "cell_type": "markdown",
   "id": "69e88b37",
   "metadata": {},
   "source": [
    "Objectives:\n",
    "Complete all modules in Tools for Data Science"
   ]
  },
  {
   "cell_type": "markdown",
   "id": "4a8e37b6",
   "metadata": {},
   "source": [
    "Author: Me"
   ]
  }
 ],
 "metadata": {
  "kernelspec": {
   "display_name": ".venv",
   "language": "python",
   "name": "python3"
  },
  "language_info": {
   "codemirror_mode": {
    "name": "ipython",
    "version": 3
   },
   "file_extension": ".py",
   "mimetype": "text/x-python",
   "name": "python",
   "nbconvert_exporter": "python",
   "pygments_lexer": "ipython3",
   "version": "3.12.7"
  }
 },
 "nbformat": 4,
 "nbformat_minor": 5
}
